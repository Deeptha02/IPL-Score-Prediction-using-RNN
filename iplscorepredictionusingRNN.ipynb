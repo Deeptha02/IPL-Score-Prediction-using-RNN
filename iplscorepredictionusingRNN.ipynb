{
  "cells": [
    {
      "cell_type": "code",
      "execution_count": null,
      "metadata": {
        "id": "HtCR_q7TKS6m"
      },
      "outputs": [],
      "source": [
        "import pandas as pd\n",
        "import numpy as np\n",
        "import matplotlib.pyplot as plt\n",
        "import seaborn as sns\n",
        "from sklearn import preprocessing\n"
      ]
    },
    {
      "cell_type": "code",
      "execution_count": null,
      "metadata": {
        "id": "Zqut4eWdKVA4",
        "colab": {
          "base_uri": "https://localhost:8080/",
          "height": 377
        },
        "outputId": "6210565a-17ed-4e9a-d414-7f84dc8c38e7"
      },
      "outputs": [
        {
          "output_type": "execute_result",
          "data": {
            "text/plain": [
              "               Team     Player Tournament  Matches Batting Innings Not Out  \\\n",
              "0  Delhi Daredevils  CH Morris   IPL 2016       12               7       4   \n",
              "1  Delhi Daredevils  CH Morris   IPL 2017        9               9       4   \n",
              "2  Delhi Daredevils  CH Morris   IPL 2018        4               4       3   \n",
              "3  Delhi Daredevils  JP Duminy   IPL 2016       10               8       3   \n",
              "4  Delhi Daredevils  Q de Kock   IPL 2016       13              13       1   \n",
              "\n",
              "  Runds Scored Highest Score Batting Average Balls Faced  ... Runs Conceded  \\\n",
              "0          195           82*           65.00         109  ...           308   \n",
              "1          154           52*           30.80          94  ...           240   \n",
              "2           46           27*           46.00          26  ...           143   \n",
              "3          191           49*           38.20         156  ...            55   \n",
              "4          445           108           37.08         327  ...             -   \n",
              "\n",
              "  Wickets Taken Best Bowling Figures Bowling Average Bowling Economy Rate  \\\n",
              "0            13                 2/30           23.69                 7.00   \n",
              "1            12                 4/26           20.00                 7.74   \n",
              "2             3                 2/41           47.66                10.21   \n",
              "3             2                  1/4           27.50                 7.85   \n",
              "4             -                    -               -                    -   \n",
              "\n",
              "  Bowling Strike Rate 4+ Innings Wickets 5+ Innings Wickets Catches Taken  \\\n",
              "0                20.3                  0                  0             8   \n",
              "1                15.5                  1                  0             5   \n",
              "2                28.0                  0                  0             2   \n",
              "3                21.0                  0                  0             3   \n",
              "4                   -                  -                  -             2   \n",
              "\n",
              "  Stumpings Made  \n",
              "0              0  \n",
              "1              0  \n",
              "2              0  \n",
              "3              0  \n",
              "4              2  \n",
              "\n",
              "[5 rows x 29 columns]"
            ],
            "text/html": [
              "\n",
              "  <div id=\"df-d44d0c42-17b7-4918-98a3-6897ca7bc29a\" class=\"colab-df-container\">\n",
              "    <div>\n",
              "<style scoped>\n",
              "    .dataframe tbody tr th:only-of-type {\n",
              "        vertical-align: middle;\n",
              "    }\n",
              "\n",
              "    .dataframe tbody tr th {\n",
              "        vertical-align: top;\n",
              "    }\n",
              "\n",
              "    .dataframe thead th {\n",
              "        text-align: right;\n",
              "    }\n",
              "</style>\n",
              "<table border=\"1\" class=\"dataframe\">\n",
              "  <thead>\n",
              "    <tr style=\"text-align: right;\">\n",
              "      <th></th>\n",
              "      <th>Team</th>\n",
              "      <th>Player</th>\n",
              "      <th>Tournament</th>\n",
              "      <th>Matches</th>\n",
              "      <th>Batting Innings</th>\n",
              "      <th>Not Out</th>\n",
              "      <th>Runds Scored</th>\n",
              "      <th>Highest Score</th>\n",
              "      <th>Batting Average</th>\n",
              "      <th>Balls Faced</th>\n",
              "      <th>...</th>\n",
              "      <th>Runs Conceded</th>\n",
              "      <th>Wickets Taken</th>\n",
              "      <th>Best Bowling Figures</th>\n",
              "      <th>Bowling Average</th>\n",
              "      <th>Bowling Economy Rate</th>\n",
              "      <th>Bowling Strike Rate</th>\n",
              "      <th>4+ Innings Wickets</th>\n",
              "      <th>5+ Innings Wickets</th>\n",
              "      <th>Catches Taken</th>\n",
              "      <th>Stumpings Made</th>\n",
              "    </tr>\n",
              "  </thead>\n",
              "  <tbody>\n",
              "    <tr>\n",
              "      <th>0</th>\n",
              "      <td>Delhi Daredevils</td>\n",
              "      <td>CH Morris</td>\n",
              "      <td>IPL 2016</td>\n",
              "      <td>12</td>\n",
              "      <td>7</td>\n",
              "      <td>4</td>\n",
              "      <td>195</td>\n",
              "      <td>82*</td>\n",
              "      <td>65.00</td>\n",
              "      <td>109</td>\n",
              "      <td>...</td>\n",
              "      <td>308</td>\n",
              "      <td>13</td>\n",
              "      <td>2/30</td>\n",
              "      <td>23.69</td>\n",
              "      <td>7.00</td>\n",
              "      <td>20.3</td>\n",
              "      <td>0</td>\n",
              "      <td>0</td>\n",
              "      <td>8</td>\n",
              "      <td>0</td>\n",
              "    </tr>\n",
              "    <tr>\n",
              "      <th>1</th>\n",
              "      <td>Delhi Daredevils</td>\n",
              "      <td>CH Morris</td>\n",
              "      <td>IPL 2017</td>\n",
              "      <td>9</td>\n",
              "      <td>9</td>\n",
              "      <td>4</td>\n",
              "      <td>154</td>\n",
              "      <td>52*</td>\n",
              "      <td>30.80</td>\n",
              "      <td>94</td>\n",
              "      <td>...</td>\n",
              "      <td>240</td>\n",
              "      <td>12</td>\n",
              "      <td>4/26</td>\n",
              "      <td>20.00</td>\n",
              "      <td>7.74</td>\n",
              "      <td>15.5</td>\n",
              "      <td>1</td>\n",
              "      <td>0</td>\n",
              "      <td>5</td>\n",
              "      <td>0</td>\n",
              "    </tr>\n",
              "    <tr>\n",
              "      <th>2</th>\n",
              "      <td>Delhi Daredevils</td>\n",
              "      <td>CH Morris</td>\n",
              "      <td>IPL 2018</td>\n",
              "      <td>4</td>\n",
              "      <td>4</td>\n",
              "      <td>3</td>\n",
              "      <td>46</td>\n",
              "      <td>27*</td>\n",
              "      <td>46.00</td>\n",
              "      <td>26</td>\n",
              "      <td>...</td>\n",
              "      <td>143</td>\n",
              "      <td>3</td>\n",
              "      <td>2/41</td>\n",
              "      <td>47.66</td>\n",
              "      <td>10.21</td>\n",
              "      <td>28.0</td>\n",
              "      <td>0</td>\n",
              "      <td>0</td>\n",
              "      <td>2</td>\n",
              "      <td>0</td>\n",
              "    </tr>\n",
              "    <tr>\n",
              "      <th>3</th>\n",
              "      <td>Delhi Daredevils</td>\n",
              "      <td>JP Duminy</td>\n",
              "      <td>IPL 2016</td>\n",
              "      <td>10</td>\n",
              "      <td>8</td>\n",
              "      <td>3</td>\n",
              "      <td>191</td>\n",
              "      <td>49*</td>\n",
              "      <td>38.20</td>\n",
              "      <td>156</td>\n",
              "      <td>...</td>\n",
              "      <td>55</td>\n",
              "      <td>2</td>\n",
              "      <td>1/4</td>\n",
              "      <td>27.50</td>\n",
              "      <td>7.85</td>\n",
              "      <td>21.0</td>\n",
              "      <td>0</td>\n",
              "      <td>0</td>\n",
              "      <td>3</td>\n",
              "      <td>0</td>\n",
              "    </tr>\n",
              "    <tr>\n",
              "      <th>4</th>\n",
              "      <td>Delhi Daredevils</td>\n",
              "      <td>Q de Kock</td>\n",
              "      <td>IPL 2016</td>\n",
              "      <td>13</td>\n",
              "      <td>13</td>\n",
              "      <td>1</td>\n",
              "      <td>445</td>\n",
              "      <td>108</td>\n",
              "      <td>37.08</td>\n",
              "      <td>327</td>\n",
              "      <td>...</td>\n",
              "      <td>-</td>\n",
              "      <td>-</td>\n",
              "      <td>-</td>\n",
              "      <td>-</td>\n",
              "      <td>-</td>\n",
              "      <td>-</td>\n",
              "      <td>-</td>\n",
              "      <td>-</td>\n",
              "      <td>2</td>\n",
              "      <td>2</td>\n",
              "    </tr>\n",
              "  </tbody>\n",
              "</table>\n",
              "<p>5 rows × 29 columns</p>\n",
              "</div>\n",
              "    <div class=\"colab-df-buttons\">\n",
              "\n",
              "  <div class=\"colab-df-container\">\n",
              "    <button class=\"colab-df-convert\" onclick=\"convertToInteractive('df-d44d0c42-17b7-4918-98a3-6897ca7bc29a')\"\n",
              "            title=\"Convert this dataframe to an interactive table.\"\n",
              "            style=\"display:none;\">\n",
              "\n",
              "  <svg xmlns=\"http://www.w3.org/2000/svg\" height=\"24px\" viewBox=\"0 -960 960 960\">\n",
              "    <path d=\"M120-120v-720h720v720H120Zm60-500h600v-160H180v160Zm220 220h160v-160H400v160Zm0 220h160v-160H400v160ZM180-400h160v-160H180v160Zm440 0h160v-160H620v160ZM180-180h160v-160H180v160Zm440 0h160v-160H620v160Z\"/>\n",
              "  </svg>\n",
              "    </button>\n",
              "\n",
              "  <style>\n",
              "    .colab-df-container {\n",
              "      display:flex;\n",
              "      gap: 12px;\n",
              "    }\n",
              "\n",
              "    .colab-df-convert {\n",
              "      background-color: #E8F0FE;\n",
              "      border: none;\n",
              "      border-radius: 50%;\n",
              "      cursor: pointer;\n",
              "      display: none;\n",
              "      fill: #1967D2;\n",
              "      height: 32px;\n",
              "      padding: 0 0 0 0;\n",
              "      width: 32px;\n",
              "    }\n",
              "\n",
              "    .colab-df-convert:hover {\n",
              "      background-color: #E2EBFA;\n",
              "      box-shadow: 0px 1px 2px rgba(60, 64, 67, 0.3), 0px 1px 3px 1px rgba(60, 64, 67, 0.15);\n",
              "      fill: #174EA6;\n",
              "    }\n",
              "\n",
              "    .colab-df-buttons div {\n",
              "      margin-bottom: 4px;\n",
              "    }\n",
              "\n",
              "    [theme=dark] .colab-df-convert {\n",
              "      background-color: #3B4455;\n",
              "      fill: #D2E3FC;\n",
              "    }\n",
              "\n",
              "    [theme=dark] .colab-df-convert:hover {\n",
              "      background-color: #434B5C;\n",
              "      box-shadow: 0px 1px 3px 1px rgba(0, 0, 0, 0.15);\n",
              "      filter: drop-shadow(0px 1px 2px rgba(0, 0, 0, 0.3));\n",
              "      fill: #FFFFFF;\n",
              "    }\n",
              "  </style>\n",
              "\n",
              "    <script>\n",
              "      const buttonEl =\n",
              "        document.querySelector('#df-d44d0c42-17b7-4918-98a3-6897ca7bc29a button.colab-df-convert');\n",
              "      buttonEl.style.display =\n",
              "        google.colab.kernel.accessAllowed ? 'block' : 'none';\n",
              "\n",
              "      async function convertToInteractive(key) {\n",
              "        const element = document.querySelector('#df-d44d0c42-17b7-4918-98a3-6897ca7bc29a');\n",
              "        const dataTable =\n",
              "          await google.colab.kernel.invokeFunction('convertToInteractive',\n",
              "                                                    [key], {});\n",
              "        if (!dataTable) return;\n",
              "\n",
              "        const docLinkHtml = 'Like what you see? Visit the ' +\n",
              "          '<a target=\"_blank\" href=https://colab.research.google.com/notebooks/data_table.ipynb>data table notebook</a>'\n",
              "          + ' to learn more about interactive tables.';\n",
              "        element.innerHTML = '';\n",
              "        dataTable['output_type'] = 'display_data';\n",
              "        await google.colab.output.renderOutput(dataTable, element);\n",
              "        const docLink = document.createElement('div');\n",
              "        docLink.innerHTML = docLinkHtml;\n",
              "        element.appendChild(docLink);\n",
              "      }\n",
              "    </script>\n",
              "  </div>\n",
              "\n",
              "\n",
              "<div id=\"df-d5e59c42-1dc4-4581-8118-5d5c2319759a\">\n",
              "  <button class=\"colab-df-quickchart\" onclick=\"quickchart('df-d5e59c42-1dc4-4581-8118-5d5c2319759a')\"\n",
              "            title=\"Suggest charts\"\n",
              "            style=\"display:none;\">\n",
              "\n",
              "<svg xmlns=\"http://www.w3.org/2000/svg\" height=\"24px\"viewBox=\"0 0 24 24\"\n",
              "     width=\"24px\">\n",
              "    <g>\n",
              "        <path d=\"M19 3H5c-1.1 0-2 .9-2 2v14c0 1.1.9 2 2 2h14c1.1 0 2-.9 2-2V5c0-1.1-.9-2-2-2zM9 17H7v-7h2v7zm4 0h-2V7h2v10zm4 0h-2v-4h2v4z\"/>\n",
              "    </g>\n",
              "</svg>\n",
              "  </button>\n",
              "\n",
              "<style>\n",
              "  .colab-df-quickchart {\n",
              "      --bg-color: #E8F0FE;\n",
              "      --fill-color: #1967D2;\n",
              "      --hover-bg-color: #E2EBFA;\n",
              "      --hover-fill-color: #174EA6;\n",
              "      --disabled-fill-color: #AAA;\n",
              "      --disabled-bg-color: #DDD;\n",
              "  }\n",
              "\n",
              "  [theme=dark] .colab-df-quickchart {\n",
              "      --bg-color: #3B4455;\n",
              "      --fill-color: #D2E3FC;\n",
              "      --hover-bg-color: #434B5C;\n",
              "      --hover-fill-color: #FFFFFF;\n",
              "      --disabled-bg-color: #3B4455;\n",
              "      --disabled-fill-color: #666;\n",
              "  }\n",
              "\n",
              "  .colab-df-quickchart {\n",
              "    background-color: var(--bg-color);\n",
              "    border: none;\n",
              "    border-radius: 50%;\n",
              "    cursor: pointer;\n",
              "    display: none;\n",
              "    fill: var(--fill-color);\n",
              "    height: 32px;\n",
              "    padding: 0;\n",
              "    width: 32px;\n",
              "  }\n",
              "\n",
              "  .colab-df-quickchart:hover {\n",
              "    background-color: var(--hover-bg-color);\n",
              "    box-shadow: 0 1px 2px rgba(60, 64, 67, 0.3), 0 1px 3px 1px rgba(60, 64, 67, 0.15);\n",
              "    fill: var(--button-hover-fill-color);\n",
              "  }\n",
              "\n",
              "  .colab-df-quickchart-complete:disabled,\n",
              "  .colab-df-quickchart-complete:disabled:hover {\n",
              "    background-color: var(--disabled-bg-color);\n",
              "    fill: var(--disabled-fill-color);\n",
              "    box-shadow: none;\n",
              "  }\n",
              "\n",
              "  .colab-df-spinner {\n",
              "    border: 2px solid var(--fill-color);\n",
              "    border-color: transparent;\n",
              "    border-bottom-color: var(--fill-color);\n",
              "    animation:\n",
              "      spin 1s steps(1) infinite;\n",
              "  }\n",
              "\n",
              "  @keyframes spin {\n",
              "    0% {\n",
              "      border-color: transparent;\n",
              "      border-bottom-color: var(--fill-color);\n",
              "      border-left-color: var(--fill-color);\n",
              "    }\n",
              "    20% {\n",
              "      border-color: transparent;\n",
              "      border-left-color: var(--fill-color);\n",
              "      border-top-color: var(--fill-color);\n",
              "    }\n",
              "    30% {\n",
              "      border-color: transparent;\n",
              "      border-left-color: var(--fill-color);\n",
              "      border-top-color: var(--fill-color);\n",
              "      border-right-color: var(--fill-color);\n",
              "    }\n",
              "    40% {\n",
              "      border-color: transparent;\n",
              "      border-right-color: var(--fill-color);\n",
              "      border-top-color: var(--fill-color);\n",
              "    }\n",
              "    60% {\n",
              "      border-color: transparent;\n",
              "      border-right-color: var(--fill-color);\n",
              "    }\n",
              "    80% {\n",
              "      border-color: transparent;\n",
              "      border-right-color: var(--fill-color);\n",
              "      border-bottom-color: var(--fill-color);\n",
              "    }\n",
              "    90% {\n",
              "      border-color: transparent;\n",
              "      border-bottom-color: var(--fill-color);\n",
              "    }\n",
              "  }\n",
              "</style>\n",
              "\n",
              "  <script>\n",
              "    async function quickchart(key) {\n",
              "      const quickchartButtonEl =\n",
              "        document.querySelector('#' + key + ' button');\n",
              "      quickchartButtonEl.disabled = true;  // To prevent multiple clicks.\n",
              "      quickchartButtonEl.classList.add('colab-df-spinner');\n",
              "      try {\n",
              "        const charts = await google.colab.kernel.invokeFunction(\n",
              "            'suggestCharts', [key], {});\n",
              "      } catch (error) {\n",
              "        console.error('Error during call to suggestCharts:', error);\n",
              "      }\n",
              "      quickchartButtonEl.classList.remove('colab-df-spinner');\n",
              "      quickchartButtonEl.classList.add('colab-df-quickchart-complete');\n",
              "    }\n",
              "    (() => {\n",
              "      let quickchartButtonEl =\n",
              "        document.querySelector('#df-d5e59c42-1dc4-4581-8118-5d5c2319759a button');\n",
              "      quickchartButtonEl.style.display =\n",
              "        google.colab.kernel.accessAllowed ? 'block' : 'none';\n",
              "    })();\n",
              "  </script>\n",
              "</div>\n",
              "    </div>\n",
              "  </div>\n"
            ]
          },
          "metadata": {},
          "execution_count": 128
        }
      ],
      "source": [
        "data = pd.read_csv('IPL Player Stats - 2016 till 2019.csv')\n",
        "data.head()\n"
      ]
    },
    {
      "cell_type": "code",
      "execution_count": null,
      "metadata": {
        "id": "b3frQuehWOCV"
      },
      "outputs": [],
      "source": [
        "ipl = pd.read_csv('0y clean data pre ipl.csv')"
      ]
    },
    {
      "cell_type": "code",
      "execution_count": null,
      "metadata": {
        "id": "hgDbGY2NN8vv"
      },
      "outputs": [],
      "source": [
        "new_ipl = pd.merge(ipl,data,left_on='striker',right_on='Player')"
      ]
    },
    {
      "cell_type": "code",
      "execution_count": null,
      "metadata": {
        "id": "FPcpFxkaN_7_"
      },
      "outputs": [],
      "source": [
        "new_ipl.drop(['wicket_type', 'player_dismissed','Unnamed: 0','match_id'],axis=1,inplace=True)"
      ]
    },
    {
      "cell_type": "code",
      "execution_count": null,
      "metadata": {
        "id": "E8-67igdOELv",
        "colab": {
          "base_uri": "https://localhost:8080/"
        },
        "outputId": "2beaae64-ca74-4532-9219-a055f1fc205c"
      },
      "outputs": [
        {
          "output_type": "stream",
          "name": "stdout",
          "text": [
            "venue -> object\n",
            "batting_team -> object\n",
            "bowling_team -> object\n",
            "striker -> object\n",
            "non_striker -> object\n",
            "bowler -> object\n",
            "Team -> object\n",
            "Player -> object\n",
            "Tournament -> object\n",
            "Batting Innings -> object\n",
            "Not Out -> object\n",
            "Runds Scored -> object\n",
            "Highest Score -> object\n",
            "Batting Average -> object\n",
            "Balls Faced -> object\n",
            "Batting Strike Rate -> object\n",
            "100 -> object\n",
            "50 -> object\n",
            "0 -> object\n",
            "4s -> object\n",
            "6s -> object\n",
            "Bowling Innings -> object\n",
            "Overs Bowled -> object\n",
            "Maidens Bowled -> object\n",
            "Runs Conceded -> object\n",
            "Wickets Taken -> object\n",
            "Best Bowling Figures -> object\n",
            "Bowling Average -> object\n",
            "Bowling Economy Rate -> object\n",
            "Bowling Strike Rate -> object\n",
            "4+ Innings Wickets -> object\n",
            "5+ Innings Wickets -> object\n"
          ]
        }
      ],
      "source": [
        "listf = []\n",
        "for c in new_ipl.columns:\n",
        "    if new_ipl[c].dtype==object:\n",
        "        print(c,\"->\" ,new_ipl[c].dtype)\n",
        "        listf.append(c)"
      ]
    },
    {
      "cell_type": "code",
      "execution_count": null,
      "metadata": {
        "id": "cH2Y7_IDOIv9",
        "colab": {
          "base_uri": "https://localhost:8080/",
          "height": 947
        },
        "outputId": "6dd847fa-248c-4a28-b4a2-4e31fdf8a157"
      },
      "outputs": [
        {
          "output_type": "stream",
          "name": "stdout",
          "text": [
            "bowler\n",
            "Team\n",
            "Player\n",
            "Tournament\n",
            "Batting Innings\n",
            "Not Out\n",
            "Runds Scored\n",
            "Highest Score\n",
            "Batting Average\n",
            "Balls Faced\n",
            "Batting Strike Rate\n",
            "100\n",
            "50\n",
            "0\n",
            "4s\n",
            "6s\n",
            "Bowling Innings\n",
            "Overs Bowled\n",
            "Maidens Bowled\n",
            "Runs Conceded\n",
            "Wickets Taken\n",
            "Best Bowling Figures\n",
            "Bowling Average\n",
            "Bowling Economy Rate\n",
            "Bowling Strike Rate\n",
            "4+ Innings Wickets\n",
            "5+ Innings Wickets\n"
          ]
        },
        {
          "output_type": "execute_result",
          "data": {
            "text/plain": [
              "       venue  innings  ball  batting_team  bowling_team  striker  non_striker  \\\n",
              "0         15        1   0.2             7            13       13          164   \n",
              "1         15        1   0.2             7            13       13          164   \n",
              "2         15        1   0.2             7            13       13          164   \n",
              "3         15        1   0.3             7            13       13          164   \n",
              "4         15        1   0.3             7            13       13          164   \n",
              "...      ...      ...   ...           ...           ...      ...          ...   \n",
              "75403      8        1   6.2            13             7        4          193   \n",
              "75404      8        1   6.6            13             7        4          193   \n",
              "75405      8        1   6.6            13             7        4          193   \n",
              "75406      8        1   6.6            13             7        4          193   \n",
              "75407      8        1   6.6            13             7        4          193   \n",
              "\n",
              "       bowler  runs_off_bat  extras  ...  Runs Conceded  Wickets Taken  \\\n",
              "0         197           0.0     0.0  ...              0              0   \n",
              "1         197           0.0     0.0  ...              0              0   \n",
              "2         197           0.0     0.0  ...              0              0   \n",
              "3         197           0.0     1.0  ...              0              0   \n",
              "4         197           0.0     1.0  ...              0              0   \n",
              "...       ...           ...     ...  ...            ...            ...   \n",
              "75403      20           1.0     0.0  ...              0              0   \n",
              "75404      20           0.0     0.0  ...              0              0   \n",
              "75405      20           0.0     0.0  ...              0              0   \n",
              "75406      20           0.0     0.0  ...              0              0   \n",
              "75407      20           0.0     0.0  ...              0              0   \n",
              "\n",
              "       Best Bowling Figures  Bowling Average  Bowling Economy Rate  \\\n",
              "0                         0                0                     0   \n",
              "1                         0                0                     0   \n",
              "2                         0                0                     0   \n",
              "3                         0                0                     0   \n",
              "4                         0                0                     0   \n",
              "...                     ...              ...                   ...   \n",
              "75403                     0                0                     0   \n",
              "75404                     0                0                     0   \n",
              "75405                     0                0                     0   \n",
              "75406                     0                0                     0   \n",
              "75407                     0                0                     0   \n",
              "\n",
              "       Bowling Strike Rate  4+ Innings Wickets  5+ Innings Wickets  \\\n",
              "0                        0                   0                   0   \n",
              "1                        0                   0                   0   \n",
              "2                        0                   0                   0   \n",
              "3                        0                   0                   0   \n",
              "4                        0                   0                   0   \n",
              "...                    ...                 ...                 ...   \n",
              "75403                    0                   0                   0   \n",
              "75404                    0                   0                   0   \n",
              "75405                    0                   0                   0   \n",
              "75406                    0                   0                   0   \n",
              "75407                    0                   0                   0   \n",
              "\n",
              "       Catches Taken  Stumpings Made  \n",
              "0                  1               0  \n",
              "1                  0               0  \n",
              "2                  8               0  \n",
              "3                  1               0  \n",
              "4                  0               0  \n",
              "...              ...             ...  \n",
              "75403              0               0  \n",
              "75404              1               0  \n",
              "75405              1               0  \n",
              "75406              0               0  \n",
              "75407              0               0  \n",
              "\n",
              "[75408 rows x 43 columns]"
            ],
            "text/html": [
              "\n",
              "  <div id=\"df-45f57a66-a1ea-4d17-9025-845203aab910\" class=\"colab-df-container\">\n",
              "    <div>\n",
              "<style scoped>\n",
              "    .dataframe tbody tr th:only-of-type {\n",
              "        vertical-align: middle;\n",
              "    }\n",
              "\n",
              "    .dataframe tbody tr th {\n",
              "        vertical-align: top;\n",
              "    }\n",
              "\n",
              "    .dataframe thead th {\n",
              "        text-align: right;\n",
              "    }\n",
              "</style>\n",
              "<table border=\"1\" class=\"dataframe\">\n",
              "  <thead>\n",
              "    <tr style=\"text-align: right;\">\n",
              "      <th></th>\n",
              "      <th>venue</th>\n",
              "      <th>innings</th>\n",
              "      <th>ball</th>\n",
              "      <th>batting_team</th>\n",
              "      <th>bowling_team</th>\n",
              "      <th>striker</th>\n",
              "      <th>non_striker</th>\n",
              "      <th>bowler</th>\n",
              "      <th>runs_off_bat</th>\n",
              "      <th>extras</th>\n",
              "      <th>...</th>\n",
              "      <th>Runs Conceded</th>\n",
              "      <th>Wickets Taken</th>\n",
              "      <th>Best Bowling Figures</th>\n",
              "      <th>Bowling Average</th>\n",
              "      <th>Bowling Economy Rate</th>\n",
              "      <th>Bowling Strike Rate</th>\n",
              "      <th>4+ Innings Wickets</th>\n",
              "      <th>5+ Innings Wickets</th>\n",
              "      <th>Catches Taken</th>\n",
              "      <th>Stumpings Made</th>\n",
              "    </tr>\n",
              "  </thead>\n",
              "  <tbody>\n",
              "    <tr>\n",
              "      <th>0</th>\n",
              "      <td>15</td>\n",
              "      <td>1</td>\n",
              "      <td>0.2</td>\n",
              "      <td>7</td>\n",
              "      <td>13</td>\n",
              "      <td>13</td>\n",
              "      <td>164</td>\n",
              "      <td>197</td>\n",
              "      <td>0.0</td>\n",
              "      <td>0.0</td>\n",
              "      <td>...</td>\n",
              "      <td>0</td>\n",
              "      <td>0</td>\n",
              "      <td>0</td>\n",
              "      <td>0</td>\n",
              "      <td>0</td>\n",
              "      <td>0</td>\n",
              "      <td>0</td>\n",
              "      <td>0</td>\n",
              "      <td>1</td>\n",
              "      <td>0</td>\n",
              "    </tr>\n",
              "    <tr>\n",
              "      <th>1</th>\n",
              "      <td>15</td>\n",
              "      <td>1</td>\n",
              "      <td>0.2</td>\n",
              "      <td>7</td>\n",
              "      <td>13</td>\n",
              "      <td>13</td>\n",
              "      <td>164</td>\n",
              "      <td>197</td>\n",
              "      <td>0.0</td>\n",
              "      <td>0.0</td>\n",
              "      <td>...</td>\n",
              "      <td>0</td>\n",
              "      <td>0</td>\n",
              "      <td>0</td>\n",
              "      <td>0</td>\n",
              "      <td>0</td>\n",
              "      <td>0</td>\n",
              "      <td>0</td>\n",
              "      <td>0</td>\n",
              "      <td>0</td>\n",
              "      <td>0</td>\n",
              "    </tr>\n",
              "    <tr>\n",
              "      <th>2</th>\n",
              "      <td>15</td>\n",
              "      <td>1</td>\n",
              "      <td>0.2</td>\n",
              "      <td>7</td>\n",
              "      <td>13</td>\n",
              "      <td>13</td>\n",
              "      <td>164</td>\n",
              "      <td>197</td>\n",
              "      <td>0.0</td>\n",
              "      <td>0.0</td>\n",
              "      <td>...</td>\n",
              "      <td>0</td>\n",
              "      <td>0</td>\n",
              "      <td>0</td>\n",
              "      <td>0</td>\n",
              "      <td>0</td>\n",
              "      <td>0</td>\n",
              "      <td>0</td>\n",
              "      <td>0</td>\n",
              "      <td>8</td>\n",
              "      <td>0</td>\n",
              "    </tr>\n",
              "    <tr>\n",
              "      <th>3</th>\n",
              "      <td>15</td>\n",
              "      <td>1</td>\n",
              "      <td>0.3</td>\n",
              "      <td>7</td>\n",
              "      <td>13</td>\n",
              "      <td>13</td>\n",
              "      <td>164</td>\n",
              "      <td>197</td>\n",
              "      <td>0.0</td>\n",
              "      <td>1.0</td>\n",
              "      <td>...</td>\n",
              "      <td>0</td>\n",
              "      <td>0</td>\n",
              "      <td>0</td>\n",
              "      <td>0</td>\n",
              "      <td>0</td>\n",
              "      <td>0</td>\n",
              "      <td>0</td>\n",
              "      <td>0</td>\n",
              "      <td>1</td>\n",
              "      <td>0</td>\n",
              "    </tr>\n",
              "    <tr>\n",
              "      <th>4</th>\n",
              "      <td>15</td>\n",
              "      <td>1</td>\n",
              "      <td>0.3</td>\n",
              "      <td>7</td>\n",
              "      <td>13</td>\n",
              "      <td>13</td>\n",
              "      <td>164</td>\n",
              "      <td>197</td>\n",
              "      <td>0.0</td>\n",
              "      <td>1.0</td>\n",
              "      <td>...</td>\n",
              "      <td>0</td>\n",
              "      <td>0</td>\n",
              "      <td>0</td>\n",
              "      <td>0</td>\n",
              "      <td>0</td>\n",
              "      <td>0</td>\n",
              "      <td>0</td>\n",
              "      <td>0</td>\n",
              "      <td>0</td>\n",
              "      <td>0</td>\n",
              "    </tr>\n",
              "    <tr>\n",
              "      <th>...</th>\n",
              "      <td>...</td>\n",
              "      <td>...</td>\n",
              "      <td>...</td>\n",
              "      <td>...</td>\n",
              "      <td>...</td>\n",
              "      <td>...</td>\n",
              "      <td>...</td>\n",
              "      <td>...</td>\n",
              "      <td>...</td>\n",
              "      <td>...</td>\n",
              "      <td>...</td>\n",
              "      <td>...</td>\n",
              "      <td>...</td>\n",
              "      <td>...</td>\n",
              "      <td>...</td>\n",
              "      <td>...</td>\n",
              "      <td>...</td>\n",
              "      <td>...</td>\n",
              "      <td>...</td>\n",
              "      <td>...</td>\n",
              "      <td>...</td>\n",
              "    </tr>\n",
              "    <tr>\n",
              "      <th>75403</th>\n",
              "      <td>8</td>\n",
              "      <td>1</td>\n",
              "      <td>6.2</td>\n",
              "      <td>13</td>\n",
              "      <td>7</td>\n",
              "      <td>4</td>\n",
              "      <td>193</td>\n",
              "      <td>20</td>\n",
              "      <td>1.0</td>\n",
              "      <td>0.0</td>\n",
              "      <td>...</td>\n",
              "      <td>0</td>\n",
              "      <td>0</td>\n",
              "      <td>0</td>\n",
              "      <td>0</td>\n",
              "      <td>0</td>\n",
              "      <td>0</td>\n",
              "      <td>0</td>\n",
              "      <td>0</td>\n",
              "      <td>0</td>\n",
              "      <td>0</td>\n",
              "    </tr>\n",
              "    <tr>\n",
              "      <th>75404</th>\n",
              "      <td>8</td>\n",
              "      <td>1</td>\n",
              "      <td>6.6</td>\n",
              "      <td>13</td>\n",
              "      <td>7</td>\n",
              "      <td>4</td>\n",
              "      <td>193</td>\n",
              "      <td>20</td>\n",
              "      <td>0.0</td>\n",
              "      <td>0.0</td>\n",
              "      <td>...</td>\n",
              "      <td>0</td>\n",
              "      <td>0</td>\n",
              "      <td>0</td>\n",
              "      <td>0</td>\n",
              "      <td>0</td>\n",
              "      <td>0</td>\n",
              "      <td>0</td>\n",
              "      <td>0</td>\n",
              "      <td>1</td>\n",
              "      <td>0</td>\n",
              "    </tr>\n",
              "    <tr>\n",
              "      <th>75405</th>\n",
              "      <td>8</td>\n",
              "      <td>1</td>\n",
              "      <td>6.6</td>\n",
              "      <td>13</td>\n",
              "      <td>7</td>\n",
              "      <td>4</td>\n",
              "      <td>193</td>\n",
              "      <td>20</td>\n",
              "      <td>0.0</td>\n",
              "      <td>0.0</td>\n",
              "      <td>...</td>\n",
              "      <td>0</td>\n",
              "      <td>0</td>\n",
              "      <td>0</td>\n",
              "      <td>0</td>\n",
              "      <td>0</td>\n",
              "      <td>0</td>\n",
              "      <td>0</td>\n",
              "      <td>0</td>\n",
              "      <td>1</td>\n",
              "      <td>0</td>\n",
              "    </tr>\n",
              "    <tr>\n",
              "      <th>75406</th>\n",
              "      <td>8</td>\n",
              "      <td>1</td>\n",
              "      <td>6.6</td>\n",
              "      <td>13</td>\n",
              "      <td>7</td>\n",
              "      <td>4</td>\n",
              "      <td>193</td>\n",
              "      <td>20</td>\n",
              "      <td>0.0</td>\n",
              "      <td>0.0</td>\n",
              "      <td>...</td>\n",
              "      <td>0</td>\n",
              "      <td>0</td>\n",
              "      <td>0</td>\n",
              "      <td>0</td>\n",
              "      <td>0</td>\n",
              "      <td>0</td>\n",
              "      <td>0</td>\n",
              "      <td>0</td>\n",
              "      <td>0</td>\n",
              "      <td>0</td>\n",
              "    </tr>\n",
              "    <tr>\n",
              "      <th>75407</th>\n",
              "      <td>8</td>\n",
              "      <td>1</td>\n",
              "      <td>6.6</td>\n",
              "      <td>13</td>\n",
              "      <td>7</td>\n",
              "      <td>4</td>\n",
              "      <td>193</td>\n",
              "      <td>20</td>\n",
              "      <td>0.0</td>\n",
              "      <td>0.0</td>\n",
              "      <td>...</td>\n",
              "      <td>0</td>\n",
              "      <td>0</td>\n",
              "      <td>0</td>\n",
              "      <td>0</td>\n",
              "      <td>0</td>\n",
              "      <td>0</td>\n",
              "      <td>0</td>\n",
              "      <td>0</td>\n",
              "      <td>0</td>\n",
              "      <td>0</td>\n",
              "    </tr>\n",
              "  </tbody>\n",
              "</table>\n",
              "<p>75408 rows × 43 columns</p>\n",
              "</div>\n",
              "    <div class=\"colab-df-buttons\">\n",
              "\n",
              "  <div class=\"colab-df-container\">\n",
              "    <button class=\"colab-df-convert\" onclick=\"convertToInteractive('df-45f57a66-a1ea-4d17-9025-845203aab910')\"\n",
              "            title=\"Convert this dataframe to an interactive table.\"\n",
              "            style=\"display:none;\">\n",
              "\n",
              "  <svg xmlns=\"http://www.w3.org/2000/svg\" height=\"24px\" viewBox=\"0 -960 960 960\">\n",
              "    <path d=\"M120-120v-720h720v720H120Zm60-500h600v-160H180v160Zm220 220h160v-160H400v160Zm0 220h160v-160H400v160ZM180-400h160v-160H180v160Zm440 0h160v-160H620v160ZM180-180h160v-160H180v160Zm440 0h160v-160H620v160Z\"/>\n",
              "  </svg>\n",
              "    </button>\n",
              "\n",
              "  <style>\n",
              "    .colab-df-container {\n",
              "      display:flex;\n",
              "      gap: 12px;\n",
              "    }\n",
              "\n",
              "    .colab-df-convert {\n",
              "      background-color: #E8F0FE;\n",
              "      border: none;\n",
              "      border-radius: 50%;\n",
              "      cursor: pointer;\n",
              "      display: none;\n",
              "      fill: #1967D2;\n",
              "      height: 32px;\n",
              "      padding: 0 0 0 0;\n",
              "      width: 32px;\n",
              "    }\n",
              "\n",
              "    .colab-df-convert:hover {\n",
              "      background-color: #E2EBFA;\n",
              "      box-shadow: 0px 1px 2px rgba(60, 64, 67, 0.3), 0px 1px 3px 1px rgba(60, 64, 67, 0.15);\n",
              "      fill: #174EA6;\n",
              "    }\n",
              "\n",
              "    .colab-df-buttons div {\n",
              "      margin-bottom: 4px;\n",
              "    }\n",
              "\n",
              "    [theme=dark] .colab-df-convert {\n",
              "      background-color: #3B4455;\n",
              "      fill: #D2E3FC;\n",
              "    }\n",
              "\n",
              "    [theme=dark] .colab-df-convert:hover {\n",
              "      background-color: #434B5C;\n",
              "      box-shadow: 0px 1px 3px 1px rgba(0, 0, 0, 0.15);\n",
              "      filter: drop-shadow(0px 1px 2px rgba(0, 0, 0, 0.3));\n",
              "      fill: #FFFFFF;\n",
              "    }\n",
              "  </style>\n",
              "\n",
              "    <script>\n",
              "      const buttonEl =\n",
              "        document.querySelector('#df-45f57a66-a1ea-4d17-9025-845203aab910 button.colab-df-convert');\n",
              "      buttonEl.style.display =\n",
              "        google.colab.kernel.accessAllowed ? 'block' : 'none';\n",
              "\n",
              "      async function convertToInteractive(key) {\n",
              "        const element = document.querySelector('#df-45f57a66-a1ea-4d17-9025-845203aab910');\n",
              "        const dataTable =\n",
              "          await google.colab.kernel.invokeFunction('convertToInteractive',\n",
              "                                                    [key], {});\n",
              "        if (!dataTable) return;\n",
              "\n",
              "        const docLinkHtml = 'Like what you see? Visit the ' +\n",
              "          '<a target=\"_blank\" href=https://colab.research.google.com/notebooks/data_table.ipynb>data table notebook</a>'\n",
              "          + ' to learn more about interactive tables.';\n",
              "        element.innerHTML = '';\n",
              "        dataTable['output_type'] = 'display_data';\n",
              "        await google.colab.output.renderOutput(dataTable, element);\n",
              "        const docLink = document.createElement('div');\n",
              "        docLink.innerHTML = docLinkHtml;\n",
              "        element.appendChild(docLink);\n",
              "      }\n",
              "    </script>\n",
              "  </div>\n",
              "\n",
              "\n",
              "<div id=\"df-53cdc5a9-b7ce-410e-9cf9-2022697dc4e1\">\n",
              "  <button class=\"colab-df-quickchart\" onclick=\"quickchart('df-53cdc5a9-b7ce-410e-9cf9-2022697dc4e1')\"\n",
              "            title=\"Suggest charts\"\n",
              "            style=\"display:none;\">\n",
              "\n",
              "<svg xmlns=\"http://www.w3.org/2000/svg\" height=\"24px\"viewBox=\"0 0 24 24\"\n",
              "     width=\"24px\">\n",
              "    <g>\n",
              "        <path d=\"M19 3H5c-1.1 0-2 .9-2 2v14c0 1.1.9 2 2 2h14c1.1 0 2-.9 2-2V5c0-1.1-.9-2-2-2zM9 17H7v-7h2v7zm4 0h-2V7h2v10zm4 0h-2v-4h2v4z\"/>\n",
              "    </g>\n",
              "</svg>\n",
              "  </button>\n",
              "\n",
              "<style>\n",
              "  .colab-df-quickchart {\n",
              "      --bg-color: #E8F0FE;\n",
              "      --fill-color: #1967D2;\n",
              "      --hover-bg-color: #E2EBFA;\n",
              "      --hover-fill-color: #174EA6;\n",
              "      --disabled-fill-color: #AAA;\n",
              "      --disabled-bg-color: #DDD;\n",
              "  }\n",
              "\n",
              "  [theme=dark] .colab-df-quickchart {\n",
              "      --bg-color: #3B4455;\n",
              "      --fill-color: #D2E3FC;\n",
              "      --hover-bg-color: #434B5C;\n",
              "      --hover-fill-color: #FFFFFF;\n",
              "      --disabled-bg-color: #3B4455;\n",
              "      --disabled-fill-color: #666;\n",
              "  }\n",
              "\n",
              "  .colab-df-quickchart {\n",
              "    background-color: var(--bg-color);\n",
              "    border: none;\n",
              "    border-radius: 50%;\n",
              "    cursor: pointer;\n",
              "    display: none;\n",
              "    fill: var(--fill-color);\n",
              "    height: 32px;\n",
              "    padding: 0;\n",
              "    width: 32px;\n",
              "  }\n",
              "\n",
              "  .colab-df-quickchart:hover {\n",
              "    background-color: var(--hover-bg-color);\n",
              "    box-shadow: 0 1px 2px rgba(60, 64, 67, 0.3), 0 1px 3px 1px rgba(60, 64, 67, 0.15);\n",
              "    fill: var(--button-hover-fill-color);\n",
              "  }\n",
              "\n",
              "  .colab-df-quickchart-complete:disabled,\n",
              "  .colab-df-quickchart-complete:disabled:hover {\n",
              "    background-color: var(--disabled-bg-color);\n",
              "    fill: var(--disabled-fill-color);\n",
              "    box-shadow: none;\n",
              "  }\n",
              "\n",
              "  .colab-df-spinner {\n",
              "    border: 2px solid var(--fill-color);\n",
              "    border-color: transparent;\n",
              "    border-bottom-color: var(--fill-color);\n",
              "    animation:\n",
              "      spin 1s steps(1) infinite;\n",
              "  }\n",
              "\n",
              "  @keyframes spin {\n",
              "    0% {\n",
              "      border-color: transparent;\n",
              "      border-bottom-color: var(--fill-color);\n",
              "      border-left-color: var(--fill-color);\n",
              "    }\n",
              "    20% {\n",
              "      border-color: transparent;\n",
              "      border-left-color: var(--fill-color);\n",
              "      border-top-color: var(--fill-color);\n",
              "    }\n",
              "    30% {\n",
              "      border-color: transparent;\n",
              "      border-left-color: var(--fill-color);\n",
              "      border-top-color: var(--fill-color);\n",
              "      border-right-color: var(--fill-color);\n",
              "    }\n",
              "    40% {\n",
              "      border-color: transparent;\n",
              "      border-right-color: var(--fill-color);\n",
              "      border-top-color: var(--fill-color);\n",
              "    }\n",
              "    60% {\n",
              "      border-color: transparent;\n",
              "      border-right-color: var(--fill-color);\n",
              "    }\n",
              "    80% {\n",
              "      border-color: transparent;\n",
              "      border-right-color: var(--fill-color);\n",
              "      border-bottom-color: var(--fill-color);\n",
              "    }\n",
              "    90% {\n",
              "      border-color: transparent;\n",
              "      border-bottom-color: var(--fill-color);\n",
              "    }\n",
              "  }\n",
              "</style>\n",
              "\n",
              "  <script>\n",
              "    async function quickchart(key) {\n",
              "      const quickchartButtonEl =\n",
              "        document.querySelector('#' + key + ' button');\n",
              "      quickchartButtonEl.disabled = true;  // To prevent multiple clicks.\n",
              "      quickchartButtonEl.classList.add('colab-df-spinner');\n",
              "      try {\n",
              "        const charts = await google.colab.kernel.invokeFunction(\n",
              "            'suggestCharts', [key], {});\n",
              "      } catch (error) {\n",
              "        console.error('Error during call to suggestCharts:', error);\n",
              "      }\n",
              "      quickchartButtonEl.classList.remove('colab-df-spinner');\n",
              "      quickchartButtonEl.classList.add('colab-df-quickchart-complete');\n",
              "    }\n",
              "    (() => {\n",
              "      let quickchartButtonEl =\n",
              "        document.querySelector('#df-53cdc5a9-b7ce-410e-9cf9-2022697dc4e1 button');\n",
              "      quickchartButtonEl.style.display =\n",
              "        google.colab.kernel.accessAllowed ? 'block' : 'none';\n",
              "    })();\n",
              "  </script>\n",
              "</div>\n",
              "    </div>\n",
              "  </div>\n"
            ]
          },
          "metadata": {},
          "execution_count": 134
        }
      ],
      "source": [
        "def labelEncoding(data):\n",
        "    dataset = pd.DataFrame(new_ipl)\n",
        "    feature_dict ={}\n",
        "    #features={}\n",
        "    for feature in dataset:\n",
        "        if dataset[feature].dtype==object:\n",
        "            le = preprocessing.LabelEncoder()\n",
        "            fs = dataset[feature].unique()\n",
        "            le.fit(fs)\n",
        "            dataset[feature] = le.transform(dataset[feature])\n",
        "            feature_dict[feature] = le\n",
        "            print(feature)\n",
        "    return dataset\n",
        "\n",
        "labelEncoding(new_ipl)"
      ]
    },
    {
      "cell_type": "code",
      "execution_count": null,
      "metadata": {
        "id": "faBaWBc1ONQ1"
      },
      "outputs": [],
      "source": [
        "# Feature enginneering.\n",
        "\n",
        "X = new_ipl.drop('y',axis=1).values\n",
        "y = new_ipl['y'].values"
      ]
    },
    {
      "cell_type": "code",
      "execution_count": null,
      "metadata": {
        "id": "JAwrjqWiOP23"
      },
      "outputs": [],
      "source": [
        "from sklearn.model_selection import train_test_split"
      ]
    },
    {
      "cell_type": "code",
      "execution_count": null,
      "metadata": {
        "id": "s6z8AR4NOTZp"
      },
      "outputs": [],
      "source": [
        "X_train, X_test, y_train, y_test = train_test_split(X, y, test_size=0.33, random_state=42)"
      ]
    },
    {
      "cell_type": "code",
      "execution_count": null,
      "metadata": {
        "id": "2Z2q9UyfmUoH",
        "colab": {
          "base_uri": "https://localhost:8080/"
        },
        "outputId": "7cdc6772-c6fe-4347-d444-d58c426b9f83"
      },
      "outputs": [
        {
          "output_type": "execute_result",
          "data": {
            "text/plain": [
              "(24885, 42)"
            ]
          },
          "metadata": {},
          "execution_count": 138
        }
      ],
      "source": [
        "X_test.shape"
      ]
    },
    {
      "cell_type": "code",
      "execution_count": null,
      "metadata": {
        "id": "ioMrGJHeOWNG"
      },
      "outputs": [],
      "source": [
        "from sklearn.preprocessing import MinMaxScaler"
      ]
    },
    {
      "cell_type": "code",
      "execution_count": null,
      "metadata": {
        "id": "5W-vu6RYOZAe"
      },
      "outputs": [],
      "source": [
        "scaler = MinMaxScaler()"
      ]
    },
    {
      "cell_type": "code",
      "execution_count": null,
      "metadata": {
        "id": "Q6GnqBE0OaHW"
      },
      "outputs": [],
      "source": [
        "X_train = scaler.fit_transform(X_train)"
      ]
    },
    {
      "cell_type": "code",
      "execution_count": null,
      "metadata": {
        "id": "OgFOPb0qg3t9",
        "colab": {
          "base_uri": "https://localhost:8080/"
        },
        "outputId": "f1e7d935-8318-4d10-d784-a541c7c5fa81"
      },
      "outputs": [
        {
          "output_type": "execute_result",
          "data": {
            "text/plain": [
              "(50523, 42)"
            ]
          },
          "metadata": {},
          "execution_count": 142
        }
      ],
      "source": [
        "X_train.shape"
      ]
    },
    {
      "cell_type": "code",
      "execution_count": null,
      "metadata": {
        "id": "iWucaymxOgAB"
      },
      "outputs": [],
      "source": [
        "# Can't fit the X_test because it should not be scaled as it is to be predicted\n",
        "\n",
        "X_test = scaler.transform(X_test)"
      ]
    },
    {
      "cell_type": "code",
      "execution_count": null,
      "metadata": {
        "id": "q_27oEK2mB9z",
        "colab": {
          "base_uri": "https://localhost:8080/"
        },
        "outputId": "935e5bb7-c1f6-4382-f5fc-2481ee4f9534"
      },
      "outputs": [
        {
          "output_type": "execute_result",
          "data": {
            "text/plain": [
              "(24885, 42)"
            ]
          },
          "metadata": {},
          "execution_count": 144
        }
      ],
      "source": [
        "X_test.shape"
      ]
    },
    {
      "cell_type": "code",
      "execution_count": null,
      "metadata": {
        "id": "oUPF7qo2g-qW",
        "colab": {
          "base_uri": "https://localhost:8080/"
        },
        "outputId": "d03db01b-24f7-4775-eecb-35d691a6bd7b"
      },
      "outputs": [
        {
          "output_type": "execute_result",
          "data": {
            "text/plain": [
              "(24885,)"
            ]
          },
          "metadata": {},
          "execution_count": 145
        }
      ],
      "source": [
        "y_test.shape"
      ]
    },
    {
      "cell_type": "code",
      "execution_count": null,
      "metadata": {
        "id": "wjgrvczihB1R",
        "colab": {
          "base_uri": "https://localhost:8080/"
        },
        "outputId": "1a11329f-bb9f-4eae-af6d-2a42f783e7fb"
      },
      "outputs": [
        {
          "output_type": "execute_result",
          "data": {
            "text/plain": [
              "(50523,)"
            ]
          },
          "metadata": {},
          "execution_count": 146
        }
      ],
      "source": [
        "y_train.shape"
      ]
    },
    {
      "cell_type": "code",
      "execution_count": null,
      "metadata": {
        "id": "LDt-s6-cOg9e"
      },
      "outputs": [],
      "source": [
        "from tensorflow.keras.models import Sequential\n",
        "from tensorflow.keras.layers import Dense,Dropout\n",
        "from tensorflow.keras.callbacks import EarlyStopping"
      ]
    },
    {
      "cell_type": "code",
      "execution_count": null,
      "metadata": {
        "id": "hr3rJP4HeWmq",
        "colab": {
          "base_uri": "https://localhost:8080/"
        },
        "outputId": "fb54c988-4a16-41f8-8b7c-e013bff98da5"
      },
      "outputs": [
        {
          "output_type": "execute_result",
          "data": {
            "text/plain": [
              "(50523, 42)"
            ]
          },
          "metadata": {},
          "execution_count": 148
        }
      ],
      "source": [
        "X_train.shape"
      ]
    },
    {
      "cell_type": "code",
      "execution_count": null,
      "metadata": {
        "id": "A_V9Fo2POkzl"
      },
      "outputs": [],
      "source": [
        "# Early stopping is done to avoid overfitting.\n",
        "# What early stopping basically does is, it stops calculating the losses when 'val_loss' increases than 'loss'. Val_loss curve\n",
        "# should always be below val curve.\n",
        "\n",
        "early_stop = EarlyStopping(monitor='val_loss',patience=25,verbose=1, mode='min',)"
      ]
    },
    {
      "cell_type": "code",
      "execution_count": null,
      "metadata": {
        "id": "AHn0hrvHOtSo"
      },
      "outputs": [],
      "source": [
        "import numpy as np\n",
        "import tensorflow as tf\n",
        "from tensorflow.keras.models import Sequential\n",
        "from tensorflow.keras.layers import SimpleRNN, Dense, Dropout"
      ]
    },
    {
      "cell_type": "code",
      "execution_count": null,
      "metadata": {
        "id": "2DcudYZk-dAN",
        "colab": {
          "base_uri": "https://localhost:8080/"
        },
        "outputId": "d99665cd-55ee-4def-8a0f-4dd368468240"
      },
      "outputs": [
        {
          "output_type": "execute_result",
          "data": {
            "text/plain": [
              "(75408, 42)"
            ]
          },
          "metadata": {},
          "execution_count": 151
        }
      ],
      "source": [
        "X.shape"
      ]
    },
    {
      "cell_type": "code",
      "execution_count": null,
      "metadata": {
        "id": "_BrOBwE--hZe"
      },
      "outputs": [],
      "source": [
        "X_reshaped = np.expand_dims(X, axis=1)"
      ]
    },
    {
      "cell_type": "code",
      "execution_count": null,
      "metadata": {
        "id": "eTNhkrG3lW2k",
        "colab": {
          "base_uri": "https://localhost:8080/",
          "height": 865
        },
        "outputId": "2582ecbf-2686-4821-e2c0-4a2ea304b82a"
      },
      "outputs": [
        {
          "output_type": "execute_result",
          "data": {
            "image/png": "[encoded data removed]",
            "text/plain": [
              "<IPython.core.display.Image object>"
            ]
          },
          "metadata": {},
          "execution_count": 153
        }
      ],
      "source": [
        "from tensorflow.keras.layers import Dense, Dropout, SimpleRNN\n",
        "\n",
        "# Create a Sequential model\n",
        "model = Sequential()\n",
        "from keras.utils import plot_model\n",
        "\n",
        "# Add a SimpleRNN layer (RNN layer)\n",
        "model.add(SimpleRNN(43, activation='relu', return_sequences=True, input_shape=(X_train.shape[1], 1)))\n",
        "model.add(Dropout(0.5))\n",
        "model.add(SimpleRNN(43, activation='relu', return_sequences=True, input_shape=(X_train.shape[1], 1)))\n",
        "model.add(Dropout(0.5))\n",
        "model.add(SimpleRNN(43, activation='relu', return_sequences=False, input_shape=(X_train.shape[1], 1)))\n",
        "model.add(Dropout(0.5))\n",
        "model.add(Dense(1))\n",
        "# Compile the model\n",
        "model.compile(optimizer='adam', loss='mse')\n",
        "plot_model(model,to_file=\"modelarchitecture.png\",show_shapes=True,show_layer_names=True)"
      ]
    },
    {
      "cell_type": "code",
      "execution_count": null,
      "metadata": {
        "id": "E6vVu8XKVDzQ",
        "colab": {
          "base_uri": "https://localhost:8080/"
        },
        "outputId": "fb9f5843-d569-486d-f8ad-d24102a2d3cb"
      },
      "outputs": [
        {
          "output_type": "execute_result",
          "data": {
            "text/plain": [
              "(24885, 42)"
            ]
          },
          "metadata": {},
          "execution_count": 154
        }
      ],
      "source": [
        "X_test.shape"
      ]
    },
    {
      "cell_type": "code",
      "execution_count": null,
      "metadata": {
        "id": "TjkWCETJnPYU"
      },
      "outputs": [],
      "source": [
        "X_train = X_train.reshape(X_train.shape[0], X_train.shape[1], 1)\n",
        "X_test = X_test.reshape(X_test.shape[0], X_test.shape[1], 1)"
      ]
    },
    {
      "cell_type": "code",
      "execution_count": null,
      "metadata": {
        "id": "3lFHXzf_ORPB",
        "colab": {
          "base_uri": "https://localhost:8080/"
        },
        "outputId": "93d34ff0-d509-4c88-daae-4284b61a14a9"
      },
      "outputs": [
        {
          "output_type": "execute_result",
          "data": {
            "text/plain": [
              "(24885, 42, 1)"
            ]
          },
          "metadata": {},
          "execution_count": 156
        }
      ],
      "source": [
        "X_test.shape"
      ]
    },
    {
      "cell_type": "code",
      "execution_count": null,
      "metadata": {
        "colab": {
          "base_uri": "https://localhost:8080/"
        },
        "id": "E_YcRnKlP31a",
        "outputId": "1c0b2614-f94c-47fb-e0e6-7d7b2df4be29"
      },
      "outputs": [
        {
          "output_type": "stream",
          "name": "stdout",
          "text": [
            "Epoch 1/400\n",
            "1579/1579 [==============================] - 69s 39ms/step - loss: 375.9137 - val_loss: 155.7467\n",
            "Epoch 2/400\n",
            "1579/1579 [==============================] - 59s 37ms/step - loss: 283.1672 - val_loss: 147.6223\n",
            "Epoch 3/400\n",
            "1579/1579 [==============================] - 58s 36ms/step - loss: 273.5804 - val_loss: 151.1314\n",
            "Epoch 4/400\n",
            "1579/1579 [==============================] - 61s 39ms/step - loss: 264.4906 - val_loss: 155.9563\n",
            "Epoch 5/400\n",
            "1579/1579 [==============================] - 59s 37ms/step - loss: 256.7917 - val_loss: 201.2883\n",
            "Epoch 6/400\n",
            "1579/1579 [==============================] - 61s 38ms/step - loss: 235.8841 - val_loss: 130.1210\n",
            "Epoch 7/400\n",
            "1579/1579 [==============================] - 58s 37ms/step - loss: 217.1111 - val_loss: 114.2713\n",
            "Epoch 8/400\n",
            "1579/1579 [==============================] - 57s 36ms/step - loss: 195.9575 - val_loss: 81.5824\n",
            "Epoch 9/400\n",
            "1579/1579 [==============================] - 61s 39ms/step - loss: 184.9750 - val_loss: 81.8996\n",
            "Epoch 10/400\n",
            "1579/1579 [==============================] - 58s 36ms/step - loss: 175.8069 - val_loss: 95.1817\n",
            "Epoch 11/400\n",
            "1579/1579 [==============================] - 59s 37ms/step - loss: 169.6806 - val_loss: 86.2730\n",
            "Epoch 12/400\n",
            "1579/1579 [==============================] - 61s 39ms/step - loss: 164.0829 - val_loss: 75.0597\n",
            "Epoch 13/400\n",
            "1579/1579 [==============================] - 58s 37ms/step - loss: 169.9951 - val_loss: 84.3286\n",
            "Epoch 14/400\n",
            "1579/1579 [==============================] - 60s 38ms/step - loss: 157.9928 - val_loss: 77.1915\n",
            "Epoch 15/400\n",
            "1579/1579 [==============================] - 58s 37ms/step - loss: 153.0025 - val_loss: 79.7534\n",
            "Epoch 16/400\n",
            "1579/1579 [==============================] - 58s 36ms/step - loss: 148.0584 - val_loss: 72.7006\n",
            "Epoch 17/400\n",
            "1579/1579 [==============================] - 57s 36ms/step - loss: 145.7605 - val_loss: 76.7222\n",
            "Epoch 18/400\n",
            "1579/1579 [==============================] - 58s 36ms/step - loss: 172.2270 - val_loss: 89.1914\n",
            "Epoch 19/400\n",
            "1579/1579 [==============================] - 58s 37ms/step - loss: 150.1194 - val_loss: 79.7671\n",
            "Epoch 20/400\n",
            "1579/1579 [==============================] - 58s 37ms/step - loss: 142.2520 - val_loss: 73.0751\n",
            "Epoch 21/400\n",
            "1579/1579 [==============================] - 57s 36ms/step - loss: 138.7315 - val_loss: 76.3420\n",
            "Epoch 22/400\n",
            "1579/1579 [==============================] - 58s 37ms/step - loss: 134.4014 - val_loss: 81.6802\n",
            "Epoch 23/400\n",
            "1579/1579 [==============================] - 61s 38ms/step - loss: 130.6688 - val_loss: 71.6567\n",
            "Epoch 24/400\n",
            "1579/1579 [==============================] - 58s 36ms/step - loss: 128.2988 - val_loss: 71.9688\n",
            "Epoch 25/400\n",
            "1579/1579 [==============================] - 60s 38ms/step - loss: 128.3690 - val_loss: 74.2743\n",
            "Epoch 26/400\n",
            "1579/1579 [==============================] - 58s 36ms/step - loss: 123.2339 - val_loss: 76.1410\n",
            "Epoch 27/400\n",
            "1579/1579 [==============================] - 57s 36ms/step - loss: 119.4187 - val_loss: 70.6572\n",
            "Epoch 28/400\n",
            "1579/1579 [==============================] - 57s 36ms/step - loss: 120.4830 - val_loss: 68.2511\n",
            "Epoch 29/400\n",
            "1579/1579 [==============================] - 58s 37ms/step - loss: 116.2555 - val_loss: 68.6444\n",
            "Epoch 30/400\n",
            "1579/1579 [==============================] - 58s 37ms/step - loss: 114.7790 - val_loss: 70.1273\n",
            "Epoch 31/400\n",
            "1579/1579 [==============================] - 59s 37ms/step - loss: 119.3492 - val_loss: 78.2618\n",
            "Epoch 32/400\n",
            "1579/1579 [==============================] - 59s 37ms/step - loss: 113.3198 - val_loss: 73.6364\n",
            "Epoch 33/400\n",
            "1579/1579 [==============================] - 58s 37ms/step - loss: 108.1395 - val_loss: 73.3671\n",
            "Epoch 34/400\n",
            "1579/1579 [==============================] - 58s 37ms/step - loss: 106.9246 - val_loss: 73.4573\n",
            "Epoch 35/400\n",
            "1579/1579 [==============================] - 58s 37ms/step - loss: 106.0369 - val_loss: 69.8740\n",
            "Epoch 36/400\n",
            "1579/1579 [==============================] - 57s 36ms/step - loss: 103.5054 - val_loss: 71.6177\n",
            "Epoch 37/400\n",
            "1579/1579 [==============================] - 61s 39ms/step - loss: 104.8440 - val_loss: 72.2374\n",
            "Epoch 38/400\n",
            "1579/1579 [==============================] - 58s 37ms/step - loss: 101.2843 - val_loss: 68.5335\n",
            "Epoch 39/400\n",
            "1579/1579 [==============================] - 61s 38ms/step - loss: 98.0118 - val_loss: 69.5591\n",
            "Epoch 40/400\n",
            "1579/1579 [==============================] - 58s 37ms/step - loss: 96.4021 - val_loss: 71.0810\n",
            "Epoch 41/400\n",
            "1579/1579 [==============================] - 58s 37ms/step - loss: 97.5241 - val_loss: 71.5900\n",
            "Epoch 42/400\n",
            "1579/1579 [==============================] - 57s 36ms/step - loss: 115.1686 - val_loss: 75.9961\n",
            "Epoch 43/400\n",
            "1579/1579 [==============================] - 58s 36ms/step - loss: 97.1687 - val_loss: 70.1249\n",
            "Epoch 44/400\n",
            "1579/1579 [==============================] - 58s 37ms/step - loss: 93.2036 - val_loss: 92.2752\n",
            "Epoch 45/400\n",
            "1579/1579 [==============================] - 58s 37ms/step - loss: 92.5946 - val_loss: 72.7171\n",
            "Epoch 46/400\n",
            "1579/1579 [==============================] - 58s 37ms/step - loss: 92.6413 - val_loss: 69.6483\n",
            "Epoch 47/400\n",
            "1579/1579 [==============================] - 63s 40ms/step - loss: 91.6442 - val_loss: 69.1417\n",
            "Epoch 48/400\n",
            "1579/1579 [==============================] - 58s 37ms/step - loss: 87.9387 - val_loss: 74.7976\n",
            "Epoch 49/400\n",
            "1579/1579 [==============================] - 58s 37ms/step - loss: 87.4150 - val_loss: 66.4245\n",
            "Epoch 50/400\n",
            "1579/1579 [==============================] - 58s 37ms/step - loss: 89.3284 - val_loss: 69.7457\n",
            "Epoch 51/400\n",
            "1579/1579 [==============================] - 58s 37ms/step - loss: 85.9907 - val_loss: 72.7247\n",
            "Epoch 52/400\n",
            "1579/1579 [==============================] - 58s 36ms/step - loss: 85.9142 - val_loss: 72.5888\n",
            "Epoch 53/400\n",
            "1579/1579 [==============================] - 62s 39ms/step - loss: 82.7414 - val_loss: 68.7000\n",
            "Epoch 54/400\n",
            "1579/1579 [==============================] - 58s 37ms/step - loss: 82.5605 - val_loss: 75.0990\n",
            "Epoch 55/400\n",
            "1579/1579 [==============================] - 59s 37ms/step - loss: 86.4146 - val_loss: 70.3646\n",
            "Epoch 56/400\n",
            "1579/1579 [==============================] - 61s 38ms/step - loss: 83.7112 - val_loss: 75.0443\n",
            "Epoch 57/400\n",
            "1579/1579 [==============================] - 58s 37ms/step - loss: 82.6183 - val_loss: 66.5041\n",
            "Epoch 58/400\n",
            "1579/1579 [==============================] - 58s 37ms/step - loss: 81.2462 - val_loss: 76.4087\n",
            "Epoch 59/400\n",
            "1579/1579 [==============================] - 62s 39ms/step - loss: 86.9786 - val_loss: 88.0289\n",
            "Epoch 60/400\n",
            "1579/1579 [==============================] - 58s 37ms/step - loss: 101.5243 - val_loss: 97.0845\n",
            "Epoch 61/400\n",
            "1579/1579 [==============================] - 61s 39ms/step - loss: 82.9368 - val_loss: 75.8634\n",
            "Epoch 62/400\n",
            "1579/1579 [==============================] - 58s 37ms/step - loss: 85.1165 - val_loss: 71.0681\n",
            "Epoch 63/400\n",
            "1579/1579 [==============================] - 61s 38ms/step - loss: 83.6281 - val_loss: 68.6184\n",
            "Epoch 64/400\n",
            "1579/1579 [==============================] - 58s 37ms/step - loss: 80.0964 - val_loss: 68.6428\n",
            "Epoch 65/400\n",
            "1579/1579 [==============================] - 61s 39ms/step - loss: 137.4784 - val_loss: 146.8126\n",
            "Epoch 66/400\n",
            "1579/1579 [==============================] - 58s 37ms/step - loss: 155.3486 - val_loss: 151.1283\n",
            "Epoch 67/400\n",
            "1579/1579 [==============================] - 61s 39ms/step - loss: 153.8349 - val_loss: 148.8313\n",
            "Epoch 68/400\n",
            "1579/1579 [==============================] - 58s 37ms/step - loss: 153.4274 - val_loss: 147.6778\n",
            "Epoch 69/400\n",
            "1579/1579 [==============================] - 57s 36ms/step - loss: 152.9399 - val_loss: 148.4737\n",
            "Epoch 70/400\n",
            "1579/1579 [==============================] - 57s 36ms/step - loss: 153.1024 - val_loss: 148.4656\n",
            "Epoch 71/400\n",
            "1579/1579 [==============================] - 57s 36ms/step - loss: 152.4372 - val_loss: 148.3649\n",
            "Epoch 72/400\n",
            "1579/1579 [==============================] - 58s 37ms/step - loss: 152.2254 - val_loss: 147.1534\n",
            "Epoch 73/400\n",
            "1579/1579 [==============================] - 63s 40ms/step - loss: 151.5924 - val_loss: 145.9379\n",
            "Epoch 74/400\n",
            "1579/1579 [==============================] - 58s 37ms/step - loss: 147.5314 - val_loss: 137.4931\n",
            "Epoch 74: early stopping\n"
          ]
        },
        {
          "output_type": "execute_result",
          "data": {
            "text/plain": [
              "<keras.src.callbacks.History at 0x7a8a2342e1a0>"
            ]
          },
          "metadata": {},
          "execution_count": 157
        }
      ],
      "source": [
        "model.fit(x=X_train, y=y_train, epochs=400, validation_data=(X_test,y_test),callbacks=[early_stop])"
      ]
    },
    {
      "cell_type": "code",
      "execution_count": null,
      "metadata": {
        "id": "uCh4T3VHPu_8"
      },
      "outputs": [],
      "source": [
        "X_test = X_test.reshape(X_test.shape[0], X_test.shape[1])"
      ]
    },
    {
      "cell_type": "code",
      "execution_count": null,
      "metadata": {
        "id": "2ycWRs-KQhBw",
        "colab": {
          "base_uri": "https://localhost:8080/"
        },
        "outputId": "061c0628-bbad-4e5a-d2e8-05140adca758"
      },
      "outputs": [
        {
          "output_type": "execute_result",
          "data": {
            "text/plain": [
              "(24885, 42)"
            ]
          },
          "metadata": {},
          "execution_count": 159
        }
      ],
      "source": [
        "X_test.shape"
      ]
    },
    {
      "cell_type": "code",
      "execution_count": null,
      "metadata": {
        "id": "RGVi0cWZVp46",
        "colab": {
          "base_uri": "https://localhost:8080/"
        },
        "outputId": "be49aba7-6625-4508-b123-aead18478069"
      },
      "outputs": [
        {
          "output_type": "stream",
          "name": "stdout",
          "text": [
            "          loss    val_loss\n",
            "0   375.913696  155.746719\n",
            "1   283.167236  147.622330\n",
            "2   273.580383  151.131378\n",
            "3   264.490570  155.956299\n",
            "4   256.791687  201.288269\n",
            "..         ...         ...\n",
            "69  153.102356  148.465576\n",
            "70  152.437164  148.364868\n",
            "71  152.225449  147.153397\n",
            "72  151.592361  145.937881\n",
            "73  147.531418  137.493103\n",
            "\n",
            "[74 rows x 2 columns]\n"
          ]
        }
      ],
      "source": [
        "model_losses = pd.DataFrame(model.history.history)\n",
        "print(model_losses)"
      ]
    },
    {
      "cell_type": "code",
      "execution_count": null,
      "metadata": {
        "id": "X7lK9o99ZOM_",
        "colab": {
          "base_uri": "https://localhost:8080/",
          "height": 489
        },
        "outputId": "83b08c45-7f93-492d-e18d-f7b7ee965296"
      },
      "outputs": [
        {
          "output_type": "execute_result",
          "data": {
            "text/plain": [
              "Text(0.5, 1.0, 'Model loss plot')"
            ]
          },
          "metadata": {},
          "execution_count": 161
        },
        {
          "output_type": "display_data",
          "data": {
            "text/plain": [
              "<Figure size 640x480 with 1 Axes>"
            ],
            "image/png": "[encoded data removed]"
          },
          "metadata": {}
        }
      ],
      "source": [
        "# Plot the data with customized settings\n",
        "model_losses.plot(\n",
        "    linestyle='--',       # Change the line style to dashed\n",
        "    marker='o',           # Add markers at data points\n",
        "    markersize=8,         # Set marker size\n",
        "    label='Loss Data'     # Add a label for the legend\n",
        ")\n",
        "plt.xlabel('Epoch')\n",
        "plt.ylabel('Loss value')\n",
        "plt.title(\"Model loss plot\")"
      ]
    },
    {
      "cell_type": "code",
      "execution_count": null,
      "metadata": {
        "id": "Qcs5oO5dh4_l"
      },
      "outputs": [],
      "source": [
        "X_train = X_train.reshape(X_train.shape[0], X_train.shape[1], 1)\n",
        "X_test = X_test.reshape(X_test.shape[0], X_test.shape[1], 1)"
      ]
    },
    {
      "cell_type": "code",
      "execution_count": null,
      "metadata": {
        "id": "BI7mtOpva2GU",
        "colab": {
          "base_uri": "https://localhost:8080/"
        },
        "outputId": "a647e84c-8188-4053-e23b-188d36a0479a"
      },
      "outputs": [
        {
          "output_type": "stream",
          "name": "stdout",
          "text": [
            "778/778 [==============================] - 7s 8ms/step\n"
          ]
        }
      ],
      "source": [
        "predictions = model.predict(X_test)"
      ]
    },
    {
      "cell_type": "code",
      "execution_count": null,
      "metadata": {
        "id": "c-By6s0fUv8T"
      },
      "outputs": [],
      "source": [
        "# Assuming y_pred has shape (num_samples, sequence_length, output_dim)\n",
        "average_predictions = np.mean(predictions, axis=1)\n"
      ]
    },
    {
      "cell_type": "code",
      "execution_count": null,
      "metadata": {
        "id": "UXuxIoIka5H5"
      },
      "outputs": [],
      "source": [
        "from sklearn.metrics import mean_absolute_error,mean_squared_error,accuracy_score"
      ]
    },
    {
      "cell_type": "code",
      "execution_count": null,
      "metadata": {
        "id": "4HPioQbIbVGl",
        "colab": {
          "base_uri": "https://localhost:8080/"
        },
        "outputId": "09f8a6d1-a040-43a4-ef8e-342f41bc06db"
      },
      "outputs": [
        {
          "output_type": "execute_result",
          "data": {
            "text/plain": [
              "1"
            ]
          },
          "metadata": {},
          "execution_count": 166
        }
      ],
      "source": [
        "y_test.ndim"
      ]
    },
    {
      "cell_type": "code",
      "execution_count": null,
      "metadata": {
        "id": "JAJs-H3GbYZC",
        "colab": {
          "base_uri": "https://localhost:8080/"
        },
        "outputId": "006a6cd5-0bc3-466c-8bec-f531950280d8"
      },
      "outputs": [
        {
          "output_type": "execute_result",
          "data": {
            "text/plain": [
              "3"
            ]
          },
          "metadata": {},
          "execution_count": 167
        }
      ],
      "source": [
        "X_test.ndim"
      ]
    },
    {
      "cell_type": "code",
      "execution_count": null,
      "metadata": {
        "id": "JVJglOVMb_58",
        "colab": {
          "base_uri": "https://localhost:8080/"
        },
        "outputId": "05c30bba-5359-4b05-89c1-6ad75d8380a4"
      },
      "outputs": [
        {
          "output_type": "stream",
          "name": "stdout",
          "text": [
            "778/778 [==============================] - 8s 10ms/step\n"
          ]
        }
      ],
      "source": [
        "y_pred = model.predict(X_test)"
      ]
    },
    {
      "cell_type": "code",
      "execution_count": null,
      "metadata": {
        "id": "pfuUtjKqQwRB",
        "colab": {
          "base_uri": "https://localhost:8080/"
        },
        "outputId": "b0306c48-1498-4eac-aaa0-19fc17e6bbda"
      },
      "outputs": [
        {
          "output_type": "execute_result",
          "data": {
            "text/plain": [
              "2"
            ]
          },
          "metadata": {},
          "execution_count": 169
        }
      ],
      "source": [
        "y_pred.ndim"
      ]
    },
    {
      "cell_type": "code",
      "execution_count": null,
      "metadata": {
        "id": "QG--AyMrgJmi",
        "colab": {
          "base_uri": "https://localhost:8080/"
        },
        "outputId": "4c4e9f22-f2ed-409e-8ba7-1b5a09830c08"
      },
      "outputs": [
        {
          "output_type": "stream",
          "name": "stdout",
          "text": [
            "[[51.47678 ]\n",
            " [47.21337 ]\n",
            " [53.18907 ]\n",
            " ...\n",
            " [53.862522]\n",
            " [53.512436]\n",
            " [45.512913]]\n"
          ]
        }
      ],
      "source": [
        "print(predictions)"
      ]
    },
    {
      "cell_type": "code",
      "execution_count": null,
      "metadata": {
        "id": "p4dovoZnFNk1",
        "colab": {
          "base_uri": "https://localhost:8080/"
        },
        "outputId": "44d04934-3fa4-42f5-d37e-1ebe94720125"
      },
      "outputs": [
        {
          "output_type": "stream",
          "name": "stdout",
          "text": [
            "778/778 [==============================] - 6s 8ms/step\n"
          ]
        }
      ],
      "source": [
        "predictions = model.predict(X_test)\n"
      ]
    },
    {
      "cell_type": "code",
      "execution_count": null,
      "metadata": {
        "id": "HbEtd1pQi3ti"
      },
      "outputs": [],
      "source": [
        "from sklearn.metrics import mean_absolute_error,mean_squared_error,accuracy_score"
      ]
    },
    {
      "cell_type": "code",
      "execution_count": null,
      "metadata": {
        "id": "JUwXXCaTFDVF",
        "colab": {
          "base_uri": "https://localhost:8080/"
        },
        "outputId": "fcebdc0d-aa5b-49ab-e782-a1982a4bd5a3"
      },
      "outputs": [
        {
          "output_type": "execute_result",
          "data": {
            "text/plain": [
              "9.21973566488734"
            ]
          },
          "metadata": {},
          "execution_count": 173
        }
      ],
      "source": [
        "mean_absolute_error(y_test,predictions)"
      ]
    },
    {
      "cell_type": "code",
      "execution_count": null,
      "metadata": {
        "id": "CimYKNLdi4uq",
        "colab": {
          "base_uri": "https://localhost:8080/"
        },
        "outputId": "07eab967-dd13-4f13-a11c-f7d4f93a6ddc"
      },
      "outputs": [
        {
          "output_type": "execute_result",
          "data": {
            "text/plain": [
              "137.4930795773205"
            ]
          },
          "metadata": {},
          "execution_count": 174
        }
      ],
      "source": [
        "mean_squared_error(y_test,predictions)"
      ]
    },
    {
      "cell_type": "code",
      "execution_count": null,
      "metadata": {
        "id": "eyCQVqJoVJIR",
        "colab": {
          "base_uri": "https://localhost:8080/"
        },
        "outputId": "73a76c6c-f311-45ce-f607-4868b2728f69"
      },
      "outputs": [
        {
          "output_type": "execute_result",
          "data": {
            "text/plain": [
              "11.725744308030961"
            ]
          },
          "metadata": {},
          "execution_count": 175
        }
      ],
      "source": [
        "np.sqrt(mean_squared_error(y_test,predictions))\n"
      ]
    },
    {
      "cell_type": "code",
      "source": [
        "print(y_test)"
      ],
      "metadata": {
        "colab": {
          "base_uri": "https://localhost:8080/"
        },
        "id": "-M9ANScsAPHX",
        "outputId": "51d6dfdb-4726-4f9c-e159-3e1d84a1bcab"
      },
      "execution_count": null,
      "outputs": [
        {
          "output_type": "stream",
          "name": "stdout",
          "text": [
            "[49. 47. 37. ... 68. 53. 41.]\n"
          ]
        }
      ]
    },
    {
      "cell_type": "code",
      "source": [
        "print(y_pred)"
      ],
      "metadata": {
        "colab": {
          "base_uri": "https://localhost:8080/"
        },
        "id": "LNrMjse4ARz4",
        "outputId": "0e5f2404-d76f-42e7-f76f-136aab395888"
      },
      "execution_count": null,
      "outputs": [
        {
          "output_type": "stream",
          "name": "stdout",
          "text": [
            "[[51.47678 ]\n",
            " [47.21337 ]\n",
            " [53.18907 ]\n",
            " ...\n",
            " [53.862522]\n",
            " [53.512436]\n",
            " [45.512913]]\n"
          ]
        }
      ]
    },
    {
      "cell_type": "code",
      "source": [
        "def mean_absolute_percentage_error(y_true, y_pred):\n",
        "    y_true, y_pred = map(np.array, (y_true, y_pred))\n",
        "    return np.mean(np.abs((y_true - y_pred) / y_true)) * 100\n",
        "    # Calculate MAPE\n",
        "mape = mean_absolute_percentage_error(y_test,y_pred)\n",
        "\n",
        "# Print the MAPE\n",
        "print(\"Mean Absolute Percentage Error:\", mape)"
      ],
      "metadata": {
        "colab": {
          "base_uri": "https://localhost:8080/"
        },
        "id": "ZffH2aaGAsXg",
        "outputId": "1aac2e88-85e6-4d3a-ed0e-1eaf080fc386"
      },
      "execution_count": null,
      "outputs": [
        {
          "output_type": "stream",
          "name": "stdout",
          "text": [
            "Mean Absolute Percentage Error: 20.887203335632783\n"
          ]
        }
      ]
    },
    {
      "cell_type": "code",
      "source": [
        "import numpy as np\n",
        "\n",
        "# Calculate RMSE\n",
        "rmse = np.sqrt(np.mean((y_test - predictions)**2))\n",
        "\n",
        "print(f'Root Mean Square Error (RMSE): {rmse}')\n"
      ],
      "metadata": {
        "colab": {
          "base_uri": "https://localhost:8080/"
        },
        "id": "uXEmNTcHDb0l",
        "outputId": "1122cd03-dfd0-48f3-9591-29ebc1913cdb"
      },
      "execution_count": null,
      "outputs": [
        {
          "output_type": "stream",
          "name": "stdout",
          "text": [
            "Root Mean Square Error (RMSE): 12.501196490905512\n"
          ]
        }
      ]
    },
    {
      "cell_type": "code",
      "execution_count": null,
      "metadata": {
        "id": "Q0Bo5sYkVN2w",
        "colab": {
          "base_uri": "https://localhost:8080/",
          "height": 564
        },
        "outputId": "065daf63-e6d6-40fb-b8f1-60a83239f25a"
      },
      "outputs": [
        {
          "output_type": "display_data",
          "data": {
            "text/plain": [
              "<Figure size 1000x600 with 1 Axes>"
            ],
            "image/png": "[encoded data removed]"
          },
          "metadata": {}
        }
      ],
      "source": [
        "plt.figure(figsize=(10, 6))\n",
        "plt.plot(y_test, predictions)\n",
        "plt.xlabel(\"Actual Values\")  # Add a label for the x-axis\n",
        "plt.ylabel(\"Predicted Values\")  # You can also add a label for the y-axis if needed\n",
        "plt.title(\"Actual vs. Predicted Values\")  # You can set a title for the plot\n",
        "plt.show()\n"
      ]
    },
    {
      "cell_type": "code",
      "execution_count": null,
      "metadata": {
        "id": "_CESNwPwVU7o"
      },
      "outputs": [],
      "source": [
        "sample = pd.DataFrame(predictions,columns=['Predict'])\n",
        "sample['Actual']=y_test"
      ]
    },
    {
      "cell_type": "code",
      "execution_count": null,
      "metadata": {
        "id": "YVuefCiNVh_2",
        "colab": {
          "base_uri": "https://localhost:8080/",
          "height": 519
        },
        "outputId": "f398f182-22fb-4c99-f1ef-ac138d249d4d"
      },
      "outputs": [
        {
          "output_type": "execute_result",
          "data": {
            "text/plain": [
              "      Predict  Actual\n",
              "0   51.476780    49.0\n",
              "1   47.213371    47.0\n",
              "2   53.189072    37.0\n",
              "3   50.761478    63.0\n",
              "4   51.199898    57.0\n",
              "5   53.173145    59.0\n",
              "6   50.080681    37.0\n",
              "7   51.636032    47.0\n",
              "8   53.304962    45.0\n",
              "9   53.551140    56.0\n",
              "10  50.169624    85.0\n",
              "11  50.227020    49.0\n",
              "12  48.090382    73.0\n",
              "13  51.805706    48.0\n",
              "14  53.246384    66.0"
            ],
            "text/html": [
              "\n",
              "  <div id=\"df-72a19ea7-9ec4-458e-9832-3ff174948f85\" class=\"colab-df-container\">\n",
              "    <div>\n",
              "<style scoped>\n",
              "    .dataframe tbody tr th:only-of-type {\n",
              "        vertical-align: middle;\n",
              "    }\n",
              "\n",
              "    .dataframe tbody tr th {\n",
              "        vertical-align: top;\n",
              "    }\n",
              "\n",
              "    .dataframe thead th {\n",
              "        text-align: right;\n",
              "    }\n",
              "</style>\n",
              "<table border=\"1\" class=\"dataframe\">\n",
              "  <thead>\n",
              "    <tr style=\"text-align: right;\">\n",
              "      <th></th>\n",
              "      <th>Predict</th>\n",
              "      <th>Actual</th>\n",
              "    </tr>\n",
              "  </thead>\n",
              "  <tbody>\n",
              "    <tr>\n",
              "      <th>0</th>\n",
              "      <td>51.476780</td>\n",
              "      <td>49.0</td>\n",
              "    </tr>\n",
              "    <tr>\n",
              "      <th>1</th>\n",
              "      <td>47.213371</td>\n",
              "      <td>47.0</td>\n",
              "    </tr>\n",
              "    <tr>\n",
              "      <th>2</th>\n",
              "      <td>53.189072</td>\n",
              "      <td>37.0</td>\n",
              "    </tr>\n",
              "    <tr>\n",
              "      <th>3</th>\n",
              "      <td>50.761478</td>\n",
              "      <td>63.0</td>\n",
              "    </tr>\n",
              "    <tr>\n",
              "      <th>4</th>\n",
              "      <td>51.199898</td>\n",
              "      <td>57.0</td>\n",
              "    </tr>\n",
              "    <tr>\n",
              "      <th>5</th>\n",
              "      <td>53.173145</td>\n",
              "      <td>59.0</td>\n",
              "    </tr>\n",
              "    <tr>\n",
              "      <th>6</th>\n",
              "      <td>50.080681</td>\n",
              "      <td>37.0</td>\n",
              "    </tr>\n",
              "    <tr>\n",
              "      <th>7</th>\n",
              "      <td>51.636032</td>\n",
              "      <td>47.0</td>\n",
              "    </tr>\n",
              "    <tr>\n",
              "      <th>8</th>\n",
              "      <td>53.304962</td>\n",
              "      <td>45.0</td>\n",
              "    </tr>\n",
              "    <tr>\n",
              "      <th>9</th>\n",
              "      <td>53.551140</td>\n",
              "      <td>56.0</td>\n",
              "    </tr>\n",
              "    <tr>\n",
              "      <th>10</th>\n",
              "      <td>50.169624</td>\n",
              "      <td>85.0</td>\n",
              "    </tr>\n",
              "    <tr>\n",
              "      <th>11</th>\n",
              "      <td>50.227020</td>\n",
              "      <td>49.0</td>\n",
              "    </tr>\n",
              "    <tr>\n",
              "      <th>12</th>\n",
              "      <td>48.090382</td>\n",
              "      <td>73.0</td>\n",
              "    </tr>\n",
              "    <tr>\n",
              "      <th>13</th>\n",
              "      <td>51.805706</td>\n",
              "      <td>48.0</td>\n",
              "    </tr>\n",
              "    <tr>\n",
              "      <th>14</th>\n",
              "      <td>53.246384</td>\n",
              "      <td>66.0</td>\n",
              "    </tr>\n",
              "  </tbody>\n",
              "</table>\n",
              "</div>\n",
              "    <div class=\"colab-df-buttons\">\n",
              "\n",
              "  <div class=\"colab-df-container\">\n",
              "    <button class=\"colab-df-convert\" onclick=\"convertToInteractive('df-72a19ea7-9ec4-458e-9832-3ff174948f85')\"\n",
              "            title=\"Convert this dataframe to an interactive table.\"\n",
              "            style=\"display:none;\">\n",
              "\n",
              "  <svg xmlns=\"http://www.w3.org/2000/svg\" height=\"24px\" viewBox=\"0 -960 960 960\">\n",
              "    <path d=\"M120-120v-720h720v720H120Zm60-500h600v-160H180v160Zm220 220h160v-160H400v160Zm0 220h160v-160H400v160ZM180-400h160v-160H180v160Zm440 0h160v-160H620v160ZM180-180h160v-160H180v160Zm440 0h160v-160H620v160Z\"/>\n",
              "  </svg>\n",
              "    </button>\n",
              "\n",
              "  <style>\n",
              "    .colab-df-container {\n",
              "      display:flex;\n",
              "      gap: 12px;\n",
              "    }\n",
              "\n",
              "    .colab-df-convert {\n",
              "      background-color: #E8F0FE;\n",
              "      border: none;\n",
              "      border-radius: 50%;\n",
              "      cursor: pointer;\n",
              "      display: none;\n",
              "      fill: #1967D2;\n",
              "      height: 32px;\n",
              "      padding: 0 0 0 0;\n",
              "      width: 32px;\n",
              "    }\n",
              "\n",
              "    .colab-df-convert:hover {\n",
              "      background-color: #E2EBFA;\n",
              "      box-shadow: 0px 1px 2px rgba(60, 64, 67, 0.3), 0px 1px 3px 1px rgba(60, 64, 67, 0.15);\n",
              "      fill: #174EA6;\n",
              "    }\n",
              "\n",
              "    .colab-df-buttons div {\n",
              "      margin-bottom: 4px;\n",
              "    }\n",
              "\n",
              "    [theme=dark] .colab-df-convert {\n",
              "      background-color: #3B4455;\n",
              "      fill: #D2E3FC;\n",
              "    }\n",
              "\n",
              "    [theme=dark] .colab-df-convert:hover {\n",
              "      background-color: #434B5C;\n",
              "      box-shadow: 0px 1px 3px 1px rgba(0, 0, 0, 0.15);\n",
              "      filter: drop-shadow(0px 1px 2px rgba(0, 0, 0, 0.3));\n",
              "      fill: #FFFFFF;\n",
              "    }\n",
              "  </style>\n",
              "\n",
              "    <script>\n",
              "      const buttonEl =\n",
              "        document.querySelector('#df-72a19ea7-9ec4-458e-9832-3ff174948f85 button.colab-df-convert');\n",
              "      buttonEl.style.display =\n",
              "        google.colab.kernel.accessAllowed ? 'block' : 'none';\n",
              "\n",
              "      async function convertToInteractive(key) {\n",
              "        const element = document.querySelector('#df-72a19ea7-9ec4-458e-9832-3ff174948f85');\n",
              "        const dataTable =\n",
              "          await google.colab.kernel.invokeFunction('convertToInteractive',\n",
              "                                                    [key], {});\n",
              "        if (!dataTable) return;\n",
              "\n",
              "        const docLinkHtml = 'Like what you see? Visit the ' +\n",
              "          '<a target=\"_blank\" href=https://colab.research.google.com/notebooks/data_table.ipynb>data table notebook</a>'\n",
              "          + ' to learn more about interactive tables.';\n",
              "        element.innerHTML = '';\n",
              "        dataTable['output_type'] = 'display_data';\n",
              "        await google.colab.output.renderOutput(dataTable, element);\n",
              "        const docLink = document.createElement('div');\n",
              "        docLink.innerHTML = docLinkHtml;\n",
              "        element.appendChild(docLink);\n",
              "      }\n",
              "    </script>\n",
              "  </div>\n",
              "\n",
              "\n",
              "<div id=\"df-c19bb079-8f02-4a71-bef0-2d2e037c74bf\">\n",
              "  <button class=\"colab-df-quickchart\" onclick=\"quickchart('df-c19bb079-8f02-4a71-bef0-2d2e037c74bf')\"\n",
              "            title=\"Suggest charts\"\n",
              "            style=\"display:none;\">\n",
              "\n",
              "<svg xmlns=\"http://www.w3.org/2000/svg\" height=\"24px\"viewBox=\"0 0 24 24\"\n",
              "     width=\"24px\">\n",
              "    <g>\n",
              "        <path d=\"M19 3H5c-1.1 0-2 .9-2 2v14c0 1.1.9 2 2 2h14c1.1 0 2-.9 2-2V5c0-1.1-.9-2-2-2zM9 17H7v-7h2v7zm4 0h-2V7h2v10zm4 0h-2v-4h2v4z\"/>\n",
              "    </g>\n",
              "</svg>\n",
              "  </button>\n",
              "\n",
              "<style>\n",
              "  .colab-df-quickchart {\n",
              "      --bg-color: #E8F0FE;\n",
              "      --fill-color: #1967D2;\n",
              "      --hover-bg-color: #E2EBFA;\n",
              "      --hover-fill-color: #174EA6;\n",
              "      --disabled-fill-color: #AAA;\n",
              "      --disabled-bg-color: #DDD;\n",
              "  }\n",
              "\n",
              "  [theme=dark] .colab-df-quickchart {\n",
              "      --bg-color: #3B4455;\n",
              "      --fill-color: #D2E3FC;\n",
              "      --hover-bg-color: #434B5C;\n",
              "      --hover-fill-color: #FFFFFF;\n",
              "      --disabled-bg-color: #3B4455;\n",
              "      --disabled-fill-color: #666;\n",
              "  }\n",
              "\n",
              "  .colab-df-quickchart {\n",
              "    background-color: var(--bg-color);\n",
              "    border: none;\n",
              "    border-radius: 50%;\n",
              "    cursor: pointer;\n",
              "    display: none;\n",
              "    fill: var(--fill-color);\n",
              "    height: 32px;\n",
              "    padding: 0;\n",
              "    width: 32px;\n",
              "  }\n",
              "\n",
              "  .colab-df-quickchart:hover {\n",
              "    background-color: var(--hover-bg-color);\n",
              "    box-shadow: 0 1px 2px rgba(60, 64, 67, 0.3), 0 1px 3px 1px rgba(60, 64, 67, 0.15);\n",
              "    fill: var(--button-hover-fill-color);\n",
              "  }\n",
              "\n",
              "  .colab-df-quickchart-complete:disabled,\n",
              "  .colab-df-quickchart-complete:disabled:hover {\n",
              "    background-color: var(--disabled-bg-color);\n",
              "    fill: var(--disabled-fill-color);\n",
              "    box-shadow: none;\n",
              "  }\n",
              "\n",
              "  .colab-df-spinner {\n",
              "    border: 2px solid var(--fill-color);\n",
              "    border-color: transparent;\n",
              "    border-bottom-color: var(--fill-color);\n",
              "    animation:\n",
              "      spin 1s steps(1) infinite;\n",
              "  }\n",
              "\n",
              "  @keyframes spin {\n",
              "    0% {\n",
              "      border-color: transparent;\n",
              "      border-bottom-color: var(--fill-color);\n",
              "      border-left-color: var(--fill-color);\n",
              "    }\n",
              "    20% {\n",
              "      border-color: transparent;\n",
              "      border-left-color: var(--fill-color);\n",
              "      border-top-color: var(--fill-color);\n",
              "    }\n",
              "    30% {\n",
              "      border-color: transparent;\n",
              "      border-left-color: var(--fill-color);\n",
              "      border-top-color: var(--fill-color);\n",
              "      border-right-color: var(--fill-color);\n",
              "    }\n",
              "    40% {\n",
              "      border-color: transparent;\n",
              "      border-right-color: var(--fill-color);\n",
              "      border-top-color: var(--fill-color);\n",
              "    }\n",
              "    60% {\n",
              "      border-color: transparent;\n",
              "      border-right-color: var(--fill-color);\n",
              "    }\n",
              "    80% {\n",
              "      border-color: transparent;\n",
              "      border-right-color: var(--fill-color);\n",
              "      border-bottom-color: var(--fill-color);\n",
              "    }\n",
              "    90% {\n",
              "      border-color: transparent;\n",
              "      border-bottom-color: var(--fill-color);\n",
              "    }\n",
              "  }\n",
              "</style>\n",
              "\n",
              "  <script>\n",
              "    async function quickchart(key) {\n",
              "      const quickchartButtonEl =\n",
              "        document.querySelector('#' + key + ' button');\n",
              "      quickchartButtonEl.disabled = true;  // To prevent multiple clicks.\n",
              "      quickchartButtonEl.classList.add('colab-df-spinner');\n",
              "      try {\n",
              "        const charts = await google.colab.kernel.invokeFunction(\n",
              "            'suggestCharts', [key], {});\n",
              "      } catch (error) {\n",
              "        console.error('Error during call to suggestCharts:', error);\n",
              "      }\n",
              "      quickchartButtonEl.classList.remove('colab-df-spinner');\n",
              "      quickchartButtonEl.classList.add('colab-df-quickchart-complete');\n",
              "    }\n",
              "    (() => {\n",
              "      let quickchartButtonEl =\n",
              "        document.querySelector('#df-c19bb079-8f02-4a71-bef0-2d2e037c74bf button');\n",
              "      quickchartButtonEl.style.display =\n",
              "        google.colab.kernel.accessAllowed ? 'block' : 'none';\n",
              "    })();\n",
              "  </script>\n",
              "</div>\n",
              "    </div>\n",
              "  </div>\n"
            ]
          },
          "metadata": {},
          "execution_count": 182
        }
      ],
      "source": [
        "sample.head(15)"
      ]
    }
  ],
  "metadata": {
    "colab": {
      "provenance": []
    },
    "kernelspec": {
      "display_name": "Python 3",
      "name": "python3"
    },
    "language_info": {
      "name": "python"
    }
  },
  "nbformat": 4,
  "nbformat_minor": 0
}